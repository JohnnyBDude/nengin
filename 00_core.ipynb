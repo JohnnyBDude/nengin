{
 "cells": [
  {
   "cell_type": "code",
   "execution_count": null,
   "metadata": {},
   "outputs": [],
   "source": [
    "# default_exp core"
   ]
  },
  {
   "cell_type": "markdown",
   "metadata": {},
   "source": [
    "# Knowledge engine core\n",
    "\n",
    "> API details."
   ]
  },
  {
   "cell_type": "code",
   "execution_count": null,
   "metadata": {},
   "outputs": [],
   "source": [
    "#hide\n",
    "from nbdev.showdoc import *"
   ]
  },
  {
   "cell_type": "code",
   "execution_count": null,
   "metadata": {},
   "outputs": [],
   "source": [
    "import uuid"
   ]
  },
  {
   "cell_type": "markdown",
   "metadata": {},
   "source": [
    "## Znalost\n",
    "\n",
    "Znalost je základní stavební jednotkou znalostního systému.  \n",
    " \n",
    "Znalost má sloty - do nichž zapadají další znalosti.  "
   ]
  },
  {
   "cell_type": "code",
   "execution_count": null,
   "metadata": {},
   "outputs": [],
   "source": [
    "# export\n",
    "class Knowledge:\n",
    "    \n",
    "    def __init__(self, name=\"\", code=\"\"):\n",
    "        self.guid = uuid.uuid4()\n",
    "        self.name = name\n",
    "        self.code = code\n",
    "        self._slots = {}\n",
    "        \n",
    "    def slot(self, name, value=None):\n",
    "        if value is None:\n",
    "            return self._slots.get(name)\n",
    "        else:\n",
    "            self._slots[name] = value\n",
    "    \n",
    "    @property\n",
    "    def slots(self):\n",
    "        return self._slots\n",
    "        \n",
    "    def __str__(self):\n",
    "        if self.code and self.name:\n",
    "            return f\"{self.code} - {self.name}\"\n",
    "        elif self.code:\n",
    "            return self.code\n",
    "        elif self.name:\n",
    "            return self.name\n",
    "        else:\n",
    "            return \"<blank>\"\n",
    "    \n",
    "    def __repr__(self):\n",
    "        return f'Knowledge(name=\"{self.name}\", code=\"{self.name}\", guid=\"{self.guid}\")'"
   ]
  },
  {
   "cell_type": "markdown",
   "metadata": {},
   "source": [
    "### Globální identifikátor\n",
    "\n",
    "Jednoznačným identifikátorem znalosti je GUID - globální unikátní ID.  \n",
    "Tím je zajištěna ochrana před konflikty a současně trvalá identita znalosti - bez ohledu na zdroj ze kterého znalost pochází."
   ]
  },
  {
   "cell_type": "code",
   "execution_count": null,
   "metadata": {},
   "outputs": [
    {
     "data": {
      "text/plain": [
       "(UUID('522394d5-472c-48c8-a389-4ff941a69087'),\n",
       " UUID('73f80571-ead9-4fb4-b020-b4acdbe93d4a'))"
      ]
     },
     "execution_count": null,
     "metadata": {},
     "output_type": "execute_result"
    }
   ],
   "source": [
    "k1 = Knowledge()\n",
    "k2 = Knowledge()\n",
    "k1.guid, k2.guid"
   ]
  },
  {
   "cell_type": "markdown",
   "metadata": {},
   "source": [
    "# Kód a název\n",
    "\n",
    "pro lepší lidskou čitelnost, může být znalost označena kódem a názvem"
   ]
  },
  {
   "cell_type": "code",
   "execution_count": null,
   "metadata": {},
   "outputs": [
    {
     "data": {
      "text/plain": [
       "Knowledge(name=\"Automat kalashnikov\", code=\"Automat kalashnikov\", guid=\"bbe2a074-cc70-4ca5-9286-acc18b92cd69\")"
      ]
     },
     "execution_count": null,
     "metadata": {},
     "output_type": "execute_result"
    }
   ],
   "source": [
    "ak47 = Knowledge(\"Automat kalashnikov\", \"AK-47\")\n",
    "ak47"
   ]
  },
  {
   "cell_type": "code",
   "execution_count": null,
   "metadata": {},
   "outputs": [
    {
     "data": {
      "text/plain": [
       "'AK-47 - Automat kalashnikov'"
      ]
     },
     "execution_count": null,
     "metadata": {},
     "output_type": "execute_result"
    }
   ],
   "source": [
    "str(ak47)"
   ]
  },
  {
   "cell_type": "code",
   "execution_count": null,
   "metadata": {},
   "outputs": [
    {
     "data": {
      "text/plain": [
       "'Karel'"
      ]
     },
     "execution_count": null,
     "metadata": {},
     "output_type": "execute_result"
    }
   ],
   "source": [
    "karel = Knowledge(\"Karel\")\n",
    "str(karel)"
   ]
  },
  {
   "cell_type": "code",
   "execution_count": null,
   "metadata": {},
   "outputs": [
    {
     "data": {
      "text/plain": [
       "'<blank>'"
      ]
     },
     "execution_count": null,
     "metadata": {},
     "output_type": "execute_result"
    }
   ],
   "source": [
    "noname = Knowledge()\n",
    "str(noname)"
   ]
  },
  {
   "cell_type": "markdown",
   "metadata": {},
   "source": [
    "## Sloty\n",
    "\n",
    "znalost je konstruována pomocí kompozice - má atributy, do kterých zapadají další znalosti"
   ]
  },
  {
   "cell_type": "code",
   "execution_count": null,
   "metadata": {},
   "outputs": [],
   "source": [
    "factory = Knowledge(\"Chocolate Factory\")\n",
    "product = Knowledge(\"Chocolate\")\n",
    "\n",
    "factory.slot(\"produces\", product)"
   ]
  },
  {
   "cell_type": "code",
   "execution_count": null,
   "metadata": {},
   "outputs": [
    {
     "data": {
      "text/plain": [
       "{'produces': Knowledge(name=\"Chocolate\", code=\"Chocolate\", guid=\"837a76e9-7cda-47c0-90ba-aa07711d2234\")}"
      ]
     },
     "execution_count": null,
     "metadata": {},
     "output_type": "execute_result"
    }
   ],
   "source": [
    "factory.slots"
   ]
  },
  {
   "cell_type": "code",
   "execution_count": null,
   "metadata": {},
   "outputs": [
    {
     "data": {
      "text/plain": [
       "Knowledge(name=\"Chocolate\", code=\"Chocolate\", guid=\"837a76e9-7cda-47c0-90ba-aa07711d2234\")"
      ]
     },
     "execution_count": null,
     "metadata": {},
     "output_type": "execute_result"
    }
   ],
   "source": [
    "factory.slot(\"produces\")"
   ]
  },
  {
   "cell_type": "markdown",
   "metadata": {},
   "source": [
    "## Šablony\n",
    "\n",
    "každou znalost je možné reprezentovat různými způsoby, pomocí šablon"
   ]
  },
  {
   "cell_type": "code",
   "execution_count": null,
   "metadata": {},
   "outputs": [],
   "source": [
    "james = Knowledge(\"James Jackson\")\n",
    "james.slot(\"father-of\", Knowledge(\"Jimmy Jackson\"))\n",
    "james.slot(\"business\", Knowledge(\"Engineer\"))\n",
    "\n",
    "def family_guy(person):\n",
    "    return f\"{str(james)}, father of little {str(person.slot('father-of'))}\"\n",
    "\n",
    "def business_guy(person):\n",
    "    return f\"{str(james)}, makes his living as {str(person.slot('business'))}\""
   ]
  },
  {
   "cell_type": "code",
   "execution_count": null,
   "metadata": {},
   "outputs": [
    {
     "data": {
      "text/plain": [
       "'James Jackson, father of little Jimmy Jackson'"
      ]
     },
     "execution_count": null,
     "metadata": {},
     "output_type": "execute_result"
    }
   ],
   "source": [
    "family_guy(james)"
   ]
  },
  {
   "cell_type": "code",
   "execution_count": null,
   "metadata": {},
   "outputs": [
    {
     "data": {
      "text/plain": [
       "'James Jackson, makes his living as Engineer'"
      ]
     },
     "execution_count": null,
     "metadata": {},
     "output_type": "execute_result"
    }
   ],
   "source": [
    "business_guy(james)"
   ]
  },
  {
   "cell_type": "code",
   "execution_count": null,
   "metadata": {},
   "outputs": [],
   "source": []
  }
 ],
 "metadata": {
  "kernelspec": {
   "display_name": "Python 3",
   "language": "python",
   "name": "python3"
  }
 },
 "nbformat": 4,
 "nbformat_minor": 2
}
